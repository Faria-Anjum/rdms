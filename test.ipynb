{
 "cells": [
  {
   "cell_type": "code",
   "execution_count": 15,
   "metadata": {},
   "outputs": [
    {
     "name": "stdout",
     "output_type": "stream",
     "text": [
      "22/10/2024\n"
     ]
    }
   ],
   "source": [
    "from datetime import datetime\n",
    "today = datetime.now()\n",
    "\n",
    "print(f'{today.day}/{today.month}/{today.year}')"
   ]
  },
  {
   "cell_type": "code",
   "execution_count": 5,
   "metadata": {},
   "outputs": [
    {
     "name": "stdout",
     "output_type": "stream",
     "text": [
      "2024-03-01\n"
     ]
    }
   ],
   "source": [
    "def onemonth(l):\n",
    "    today = l\n",
    "    \n",
    "    if today[1] == 1:\n",
    "        month = 12\n",
    "        year = today[0] - 1\n",
    "    else:\n",
    "        month = today[1] - 1\n",
    "        year = today[0]\n",
    "\n",
    "    if today[2] in [28,29,30,31]:\n",
    "        day = 1\n",
    "        month = today[1]\n",
    "        year = today[0]\n",
    "    else:\n",
    "        day = today[2] + 1\n",
    "\n",
    "    if len(str(day))==1:\n",
    "        day = \"0\"+str(day)\n",
    "    if len(str(month))==1:\n",
    "        month = \"0\"+str(month)\n",
    "\n",
    "    onemonth = f'{year}-{month}-{day}'\n",
    "    return onemonth\n",
    "\n",
    "y, m, d = map(int, input().split())\n",
    "l = [y, m, d]\n",
    "print(onemonth(l))"
   ]
  },
  {
   "cell_type": "code",
   "execution_count": null,
   "metadata": {},
   "outputs": [],
   "source": [
    "def twomonths():\n",
    "    today = datetime.now()\n",
    "    \n",
    "    if today.month == 1:\n",
    "        month = 11\n",
    "        year = today.year - 1\n",
    "    elif today.month == 2:\n",
    "        month = 12\n",
    "        year = today.year - 1\n",
    "    else:\n",
    "        month = today.month - 2\n",
    "        year = today.year\n",
    "\n",
    "    if today.day in [28,29,30,31]:\n",
    "        day = 1\n",
    "        month = today.month - 1\n",
    "        year = today.year\n",
    "    else:\n",
    "        day = today.day\n",
    "\n",
    "    if len(str(day))==1:\n",
    "        day = \"0\"+str(day)\n",
    "    if len(str(month))==1:\n",
    "        month = \"0\"+str(month)\n",
    "\n",
    "    twomonths = f'{year}-{month}-{day}'\n",
    "    return twomonths"
   ]
  }
 ],
 "metadata": {
  "kernelspec": {
   "display_name": "Python 3",
   "language": "python",
   "name": "python3"
  },
  "language_info": {
   "codemirror_mode": {
    "name": "ipython",
    "version": 3
   },
   "file_extension": ".py",
   "mimetype": "text/x-python",
   "name": "python",
   "nbconvert_exporter": "python",
   "pygments_lexer": "ipython3",
   "version": "3.12.7"
  }
 },
 "nbformat": 4,
 "nbformat_minor": 2
}
