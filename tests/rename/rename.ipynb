{
 "cells": [
  {
   "cell_type": "code",
   "execution_count": 3,
   "metadata": {},
   "outputs": [
    {
     "name": "stdout",
     "output_type": "stream",
     "text": [
      "rename.ipynb\n",
      "test_10_deliveryVsActivation.py\n",
      "test_11_activationReportSummary.py\n",
      "test_12_deliveryReportSummary.py\n",
      "test_13_pendingSimOdReport.py\n",
      "test_14_simActivationReport.py\n",
      "test_15_pendingScOdReport.py\n",
      "test_16_noActivatedMsisdn.py\n",
      "test_17_liftingvsactivation.py\n",
      "test_18_salesCallReportDsr.py\n",
      "test_19_salesCallReportRetailer.py\n",
      "test_20_salesCallReportTransaction.py\n",
      "test_21_marketVisitPlan.py\n",
      "test_22_marketVisitRoutewise.py\n",
      "test_23_bpPerformanceReport.py\n",
      "test_24_bpTaggedList.py\n",
      "test_25_userManagement.py\n",
      "test_26_distributorInformation.py\n",
      "test_27_productMasterData.py\n",
      "test_28_dsrMasterData.py\n",
      "test_29_dsrRouteInformation.py\n",
      "test_30_retailerMasterData.py\n",
      "test_31_retailerRegRequest.py\n",
      "test_32_retailerModificationRequest.py\n",
      "test_33_rcPendingDeviceOd.py\n",
      "test_34_pendingDeviceOd.py\n",
      "test_35_faultyDevice.py\n",
      "test_36_individualDeviceHistory.py\n",
      "test_37_individualDeviceTransactionHistory.py\n",
      "test_38_deviceTransaction.py\n",
      "test_39_deviceLifetimeTracking.py\n",
      "test_40_deviceStatus.py\n",
      "test_41_centralInventoryStock.py\n",
      "test_42_deviceRegistrationReport.py\n"
     ]
    }
   ],
   "source": [
    "import os\n",
    "\n",
    "for filename in os.listdir():\n",
    "    print(filename)"
   ]
  },
  {
   "cell_type": "code",
   "execution_count": null,
   "metadata": {},
   "outputs": [
    {
     "name": "stdout",
     "output_type": "stream",
     "text": [
      "test_10_deliveryVsActivation.py\n"
     ]
    }
   ],
   "source": [
    "import os\n",
    "\n",
    "for filename in os.listdir():\n",
    "    if filename!=\"rename.ipynb\" and int(filename[5:7])==10:\n",
    "        print(filename)"
   ]
  },
  {
   "cell_type": "code",
   "execution_count": 9,
   "metadata": {},
   "outputs": [],
   "source": [
    "import os\n",
    "\n",
    "for filename in os.listdir():\n",
    "    if filename!=\"rename.ipynb\":\n",
    "        newnum = int(filename[5:7])+1\n",
    "        newname = filename[:5] + str(newnum) + filename[7:]\n",
    "        os.rename(filename, newname)"
   ]
  }
 ],
 "metadata": {
  "kernelspec": {
   "display_name": "Python 3",
   "language": "python",
   "name": "python3"
  },
  "language_info": {
   "codemirror_mode": {
    "name": "ipython",
    "version": 3
   },
   "file_extension": ".py",
   "mimetype": "text/x-python",
   "name": "python",
   "nbconvert_exporter": "python",
   "pygments_lexer": "ipython3",
   "version": "3.12.7"
  }
 },
 "nbformat": 4,
 "nbformat_minor": 2
}
